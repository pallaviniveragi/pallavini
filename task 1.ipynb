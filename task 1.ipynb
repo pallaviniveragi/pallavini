{
 "cells": [
  {
   "cell_type": "code",
   "execution_count": 1,
   "id": "deee02b2",
   "metadata": {},
   "outputs": [
    {
     "name": "stdout",
     "output_type": "stream",
     "text": [
      "Collecting pandas\n",
      "  Downloading pandas-2.2.3-cp313-cp313-win_amd64.whl.metadata (19 kB)\n",
      "Collecting numpy>=1.26.0 (from pandas)\n",
      "  Downloading numpy-2.2.6-cp313-cp313-win_amd64.whl.metadata (60 kB)\n",
      "Requirement already satisfied: python-dateutil>=2.8.2 in c:\\users\\dell\\appdata\\roaming\\python\\python313\\site-packages (from pandas) (2.9.0.post0)\n",
      "Collecting pytz>=2020.1 (from pandas)\n",
      "  Downloading pytz-2025.2-py2.py3-none-any.whl.metadata (22 kB)\n",
      "Collecting tzdata>=2022.7 (from pandas)\n",
      "  Downloading tzdata-2025.2-py2.py3-none-any.whl.metadata (1.4 kB)\n",
      "Requirement already satisfied: six>=1.5 in c:\\users\\dell\\appdata\\roaming\\python\\python313\\site-packages (from python-dateutil>=2.8.2->pandas) (1.17.0)\n",
      "Downloading pandas-2.2.3-cp313-cp313-win_amd64.whl (11.5 MB)\n",
      "   ---------------------------------------- 0.0/11.5 MB ? eta -:--:--\n",
      "   - -------------------------------------- 0.5/11.5 MB 6.1 MB/s eta 0:00:02\n",
      "   ----- ---------------------------------- 1.6/11.5 MB 4.5 MB/s eta 0:00:03\n",
      "   --------- ------------------------------ 2.6/11.5 MB 4.9 MB/s eta 0:00:02\n",
      "   ------------- -------------------------- 3.9/11.5 MB 5.4 MB/s eta 0:00:02\n",
      "   ----------------- ---------------------- 5.0/11.5 MB 5.3 MB/s eta 0:00:02\n",
      "   -------------------- ------------------- 5.8/11.5 MB 5.1 MB/s eta 0:00:02\n",
      "   ------------------------- -------------- 7.3/11.5 MB 5.3 MB/s eta 0:00:01\n",
      "   ------------------------------ --------- 8.7/11.5 MB 5.5 MB/s eta 0:00:01\n",
      "   -------------------------------- ------- 9.4/11.5 MB 5.4 MB/s eta 0:00:01\n",
      "   -------------------------------------- - 11.0/11.5 MB 5.5 MB/s eta 0:00:01\n",
      "   ---------------------------------------- 11.5/11.5 MB 5.3 MB/s eta 0:00:00\n",
      "Downloading numpy-2.2.6-cp313-cp313-win_amd64.whl (12.6 MB)\n",
      "   ---------------------------------------- 0.0/12.6 MB ? eta -:--:--\n",
      "   --- ------------------------------------ 1.0/12.6 MB 5.0 MB/s eta 0:00:03\n",
      "   ------ --------------------------------- 2.1/12.6 MB 5.0 MB/s eta 0:00:03\n",
      "   ---------- ----------------------------- 3.4/12.6 MB 5.6 MB/s eta 0:00:02\n",
      "   -------------- ------------------------- 4.7/12.6 MB 5.5 MB/s eta 0:00:02\n",
      "   ----------------- ---------------------- 5.5/12.6 MB 5.2 MB/s eta 0:00:02\n",
      "   -------------------- ------------------- 6.6/12.6 MB 5.1 MB/s eta 0:00:02\n",
      "   ------------------------ --------------- 7.6/12.6 MB 5.2 MB/s eta 0:00:01\n",
      "   -------------------------- ------------- 8.4/12.6 MB 5.0 MB/s eta 0:00:01\n",
      "   ----------------------------- ---------- 9.2/12.6 MB 5.0 MB/s eta 0:00:01\n",
      "   ---------------------------------- ----- 10.7/12.6 MB 5.1 MB/s eta 0:00:01\n",
      "   ------------------------------------- -- 11.8/12.6 MB 5.2 MB/s eta 0:00:01\n",
      "   ---------------------------------------  12.6/12.6 MB 5.1 MB/s eta 0:00:01\n",
      "   ---------------------------------------- 12.6/12.6 MB 4.9 MB/s eta 0:00:00\n",
      "Downloading pytz-2025.2-py2.py3-none-any.whl (509 kB)\n",
      "Downloading tzdata-2025.2-py2.py3-none-any.whl (347 kB)\n",
      "Installing collected packages: pytz, tzdata, numpy, pandas\n",
      "Successfully installed numpy-2.2.6 pandas-2.2.3 pytz-2025.2 tzdata-2025.2\n",
      "Note: you may need to restart the kernel to use updated packages.\n"
     ]
    },
    {
     "name": "stderr",
     "output_type": "stream",
     "text": [
      "\n",
      "[notice] A new release of pip is available: 25.0.1 -> 25.1.1\n",
      "[notice] To update, run: python.exe -m pip install --upgrade pip\n"
     ]
    }
   ],
   "source": [
    "%pip install pandas"
   ]
  },
  {
   "cell_type": "code",
   "execution_count": 2,
   "id": "42d32b34",
   "metadata": {},
   "outputs": [
    {
     "name": "stdout",
     "output_type": "stream",
     "text": [
      "Collecting matplotlib\n",
      "  Downloading matplotlib-3.10.3-cp313-cp313-win_amd64.whl.metadata (11 kB)\n",
      "Collecting contourpy>=1.0.1 (from matplotlib)\n",
      "  Downloading contourpy-1.3.2-cp313-cp313-win_amd64.whl.metadata (5.5 kB)\n",
      "Collecting cycler>=0.10 (from matplotlib)\n",
      "  Downloading cycler-0.12.1-py3-none-any.whl.metadata (3.8 kB)\n",
      "Collecting fonttools>=4.22.0 (from matplotlib)\n",
      "  Downloading fonttools-4.58.1-cp313-cp313-win_amd64.whl.metadata (108 kB)\n",
      "Collecting kiwisolver>=1.3.1 (from matplotlib)\n",
      "  Downloading kiwisolver-1.4.8-cp313-cp313-win_amd64.whl.metadata (6.3 kB)\n",
      "Requirement already satisfied: numpy>=1.23 in c:\\users\\dell\\appdata\\local\\programs\\python\\python313\\lib\\site-packages (from matplotlib) (2.2.6)\n",
      "Requirement already satisfied: packaging>=20.0 in c:\\users\\dell\\appdata\\roaming\\python\\python313\\site-packages (from matplotlib) (25.0)\n",
      "Collecting pillow>=8 (from matplotlib)\n",
      "  Downloading pillow-11.2.1-cp313-cp313-win_amd64.whl.metadata (9.1 kB)\n",
      "Collecting pyparsing>=2.3.1 (from matplotlib)\n",
      "  Downloading pyparsing-3.2.3-py3-none-any.whl.metadata (5.0 kB)\n",
      "Requirement already satisfied: python-dateutil>=2.7 in c:\\users\\dell\\appdata\\roaming\\python\\python313\\site-packages (from matplotlib) (2.9.0.post0)\n",
      "Requirement already satisfied: six>=1.5 in c:\\users\\dell\\appdata\\roaming\\python\\python313\\site-packages (from python-dateutil>=2.7->matplotlib) (1.17.0)\n",
      "Downloading matplotlib-3.10.3-cp313-cp313-win_amd64.whl (8.1 MB)\n",
      "   ---------------------------------------- 0.0/8.1 MB ? eta -:--:--\n",
      "   --- ------------------------------------ 0.8/8.1 MB 4.5 MB/s eta 0:00:02\n",
      "   ------ --------------------------------- 1.3/8.1 MB 3.6 MB/s eta 0:00:02\n",
      "   ---------- ----------------------------- 2.1/8.1 MB 3.9 MB/s eta 0:00:02\n",
      "   --------------- ------------------------ 3.1/8.1 MB 4.1 MB/s eta 0:00:02\n",
      "   -------------------- ------------------- 4.2/8.1 MB 4.4 MB/s eta 0:00:01\n",
      "   ------------------------- -------------- 5.2/8.1 MB 4.4 MB/s eta 0:00:01\n",
      "   ----------------------------- ---------- 6.0/8.1 MB 4.2 MB/s eta 0:00:01\n",
      "   ------------------------------------- -- 7.6/8.1 MB 4.6 MB/s eta 0:00:01\n",
      "   ---------------------------------------- 8.1/8.1 MB 4.4 MB/s eta 0:00:00\n",
      "Downloading contourpy-1.3.2-cp313-cp313-win_amd64.whl (223 kB)\n",
      "Downloading cycler-0.12.1-py3-none-any.whl (8.3 kB)\n",
      "Downloading fonttools-4.58.1-cp313-cp313-win_amd64.whl (2.2 MB)\n",
      "   ---------------------------------------- 0.0/2.2 MB ? eta -:--:--\n",
      "   -------------- ------------------------- 0.8/2.2 MB 3.6 MB/s eta 0:00:01\n",
      "   -------------------------------- ------- 1.8/2.2 MB 4.4 MB/s eta 0:00:01\n",
      "   ---------------------------------------- 2.2/2.2 MB 3.9 MB/s eta 0:00:00\n",
      "Downloading kiwisolver-1.4.8-cp313-cp313-win_amd64.whl (71 kB)\n",
      "Downloading pillow-11.2.1-cp313-cp313-win_amd64.whl (2.7 MB)\n",
      "   ---------------------------------------- 0.0/2.7 MB ? eta -:--:--\n",
      "   ----------- ---------------------------- 0.8/2.7 MB 4.1 MB/s eta 0:00:01\n",
      "   --------------------------- ------------ 1.8/2.7 MB 4.6 MB/s eta 0:00:01\n",
      "   ---------------------------------------- 2.7/2.7 MB 4.4 MB/s eta 0:00:00\n",
      "Downloading pyparsing-3.2.3-py3-none-any.whl (111 kB)\n",
      "Installing collected packages: pyparsing, pillow, kiwisolver, fonttools, cycler, contourpy, matplotlib\n",
      "Successfully installed contourpy-1.3.2 cycler-0.12.1 fonttools-4.58.1 kiwisolver-1.4.8 matplotlib-3.10.3 pillow-11.2.1 pyparsing-3.2.3\n",
      "Note: you may need to restart the kernel to use updated packages.\n"
     ]
    },
    {
     "name": "stderr",
     "output_type": "stream",
     "text": [
      "\n",
      "[notice] A new release of pip is available: 25.0.1 -> 25.1.1\n",
      "[notice] To update, run: python.exe -m pip install --upgrade pip\n"
     ]
    }
   ],
   "source": [
    "%pip install matplotlib"
   ]
  },
  {
   "cell_type": "code",
   "execution_count": 3,
   "id": "0f3f8897",
   "metadata": {},
   "outputs": [],
   "source": [
    "import pandas as pd"
   ]
  },
  {
   "cell_type": "code",
   "execution_count": 6,
   "id": "2804c9b2",
   "metadata": {},
   "outputs": [
    {
     "data": {
      "text/html": [
       "<div>\n",
       "<style scoped>\n",
       "    .dataframe tbody tr th:only-of-type {\n",
       "        vertical-align: middle;\n",
       "    }\n",
       "\n",
       "    .dataframe tbody tr th {\n",
       "        vertical-align: top;\n",
       "    }\n",
       "\n",
       "    .dataframe thead th {\n",
       "        text-align: right;\n",
       "    }\n",
       "</style>\n",
       "<table border=\"1\" class=\"dataframe\">\n",
       "  <thead>\n",
       "    <tr style=\"text-align: right;\">\n",
       "      <th></th>\n",
       "      <th>Date</th>\n",
       "      <th>Product Name</th>\n",
       "      <th>Category</th>\n",
       "      <th>Units Sold</th>\n",
       "      <th>Price</th>\n",
       "      <th>Revenue</th>\n",
       "      <th>Discount</th>\n",
       "      <th>Units Returned</th>\n",
       "      <th>Location</th>\n",
       "      <th>Platform</th>\n",
       "    </tr>\n",
       "  </thead>\n",
       "  <tbody>\n",
       "    <tr>\n",
       "      <th>0</th>\n",
       "      <td>2020-01-06</td>\n",
       "      <td>Whey Protein</td>\n",
       "      <td>Protein</td>\n",
       "      <td>143</td>\n",
       "      <td>31.98</td>\n",
       "      <td>4573.14</td>\n",
       "      <td>0.03</td>\n",
       "      <td>2</td>\n",
       "      <td>Canada</td>\n",
       "      <td>Walmart</td>\n",
       "    </tr>\n",
       "    <tr>\n",
       "      <th>1</th>\n",
       "      <td>2020-01-06</td>\n",
       "      <td>Vitamin C</td>\n",
       "      <td>Vitamin</td>\n",
       "      <td>139</td>\n",
       "      <td>42.51</td>\n",
       "      <td>5908.89</td>\n",
       "      <td>0.04</td>\n",
       "      <td>0</td>\n",
       "      <td>UK</td>\n",
       "      <td>Amazon</td>\n",
       "    </tr>\n",
       "    <tr>\n",
       "      <th>2</th>\n",
       "      <td>2020-01-06</td>\n",
       "      <td>Fish Oil</td>\n",
       "      <td>Omega</td>\n",
       "      <td>161</td>\n",
       "      <td>12.91</td>\n",
       "      <td>2078.51</td>\n",
       "      <td>0.25</td>\n",
       "      <td>0</td>\n",
       "      <td>Canada</td>\n",
       "      <td>Amazon</td>\n",
       "    </tr>\n",
       "    <tr>\n",
       "      <th>3</th>\n",
       "      <td>2020-01-06</td>\n",
       "      <td>Multivitamin</td>\n",
       "      <td>Vitamin</td>\n",
       "      <td>140</td>\n",
       "      <td>16.07</td>\n",
       "      <td>2249.80</td>\n",
       "      <td>0.08</td>\n",
       "      <td>0</td>\n",
       "      <td>Canada</td>\n",
       "      <td>Walmart</td>\n",
       "    </tr>\n",
       "    <tr>\n",
       "      <th>4</th>\n",
       "      <td>2020-01-06</td>\n",
       "      <td>Pre-Workout</td>\n",
       "      <td>Performance</td>\n",
       "      <td>157</td>\n",
       "      <td>35.47</td>\n",
       "      <td>5568.79</td>\n",
       "      <td>0.25</td>\n",
       "      <td>3</td>\n",
       "      <td>Canada</td>\n",
       "      <td>iHerb</td>\n",
       "    </tr>\n",
       "    <tr>\n",
       "      <th>...</th>\n",
       "      <td>...</td>\n",
       "      <td>...</td>\n",
       "      <td>...</td>\n",
       "      <td>...</td>\n",
       "      <td>...</td>\n",
       "      <td>...</td>\n",
       "      <td>...</td>\n",
       "      <td>...</td>\n",
       "      <td>...</td>\n",
       "      <td>...</td>\n",
       "    </tr>\n",
       "    <tr>\n",
       "      <th>4379</th>\n",
       "      <td>2025-03-31</td>\n",
       "      <td>Melatonin</td>\n",
       "      <td>Sleep Aid</td>\n",
       "      <td>160</td>\n",
       "      <td>47.79</td>\n",
       "      <td>7646.40</td>\n",
       "      <td>0.21</td>\n",
       "      <td>1</td>\n",
       "      <td>USA</td>\n",
       "      <td>iHerb</td>\n",
       "    </tr>\n",
       "    <tr>\n",
       "      <th>4380</th>\n",
       "      <td>2025-03-31</td>\n",
       "      <td>Biotin</td>\n",
       "      <td>Vitamin</td>\n",
       "      <td>154</td>\n",
       "      <td>38.12</td>\n",
       "      <td>5870.48</td>\n",
       "      <td>0.22</td>\n",
       "      <td>1</td>\n",
       "      <td>UK</td>\n",
       "      <td>Walmart</td>\n",
       "    </tr>\n",
       "    <tr>\n",
       "      <th>4381</th>\n",
       "      <td>2025-03-31</td>\n",
       "      <td>Green Tea Extract</td>\n",
       "      <td>Fat Burner</td>\n",
       "      <td>139</td>\n",
       "      <td>20.40</td>\n",
       "      <td>2835.60</td>\n",
       "      <td>0.12</td>\n",
       "      <td>3</td>\n",
       "      <td>USA</td>\n",
       "      <td>iHerb</td>\n",
       "    </tr>\n",
       "    <tr>\n",
       "      <th>4382</th>\n",
       "      <td>2025-03-31</td>\n",
       "      <td>Iron Supplement</td>\n",
       "      <td>Mineral</td>\n",
       "      <td>154</td>\n",
       "      <td>18.31</td>\n",
       "      <td>2819.74</td>\n",
       "      <td>0.23</td>\n",
       "      <td>2</td>\n",
       "      <td>Canada</td>\n",
       "      <td>Amazon</td>\n",
       "    </tr>\n",
       "    <tr>\n",
       "      <th>4383</th>\n",
       "      <td>2025-03-31</td>\n",
       "      <td>Electrolyte Powder</td>\n",
       "      <td>Hydration</td>\n",
       "      <td>178</td>\n",
       "      <td>39.12</td>\n",
       "      <td>6963.36</td>\n",
       "      <td>0.23</td>\n",
       "      <td>0</td>\n",
       "      <td>UK</td>\n",
       "      <td>iHerb</td>\n",
       "    </tr>\n",
       "  </tbody>\n",
       "</table>\n",
       "<p>4384 rows × 10 columns</p>\n",
       "</div>"
      ],
      "text/plain": [
       "           Date        Product Name     Category  Units Sold  Price  Revenue  \\\n",
       "0    2020-01-06        Whey Protein      Protein         143  31.98  4573.14   \n",
       "1    2020-01-06           Vitamin C      Vitamin         139  42.51  5908.89   \n",
       "2    2020-01-06            Fish Oil        Omega         161  12.91  2078.51   \n",
       "3    2020-01-06        Multivitamin      Vitamin         140  16.07  2249.80   \n",
       "4    2020-01-06         Pre-Workout  Performance         157  35.47  5568.79   \n",
       "...         ...                 ...          ...         ...    ...      ...   \n",
       "4379 2025-03-31           Melatonin    Sleep Aid         160  47.79  7646.40   \n",
       "4380 2025-03-31              Biotin      Vitamin         154  38.12  5870.48   \n",
       "4381 2025-03-31   Green Tea Extract   Fat Burner         139  20.40  2835.60   \n",
       "4382 2025-03-31     Iron Supplement      Mineral         154  18.31  2819.74   \n",
       "4383 2025-03-31  Electrolyte Powder    Hydration         178  39.12  6963.36   \n",
       "\n",
       "      Discount  Units Returned Location Platform  \n",
       "0         0.03               2   Canada  Walmart  \n",
       "1         0.04               0       UK   Amazon  \n",
       "2         0.25               0   Canada   Amazon  \n",
       "3         0.08               0   Canada  Walmart  \n",
       "4         0.25               3   Canada    iHerb  \n",
       "...        ...             ...      ...      ...  \n",
       "4379      0.21               1      USA    iHerb  \n",
       "4380      0.22               1       UK  Walmart  \n",
       "4381      0.12               3      USA    iHerb  \n",
       "4382      0.23               2   Canada   Amazon  \n",
       "4383      0.23               0       UK    iHerb  \n",
       "\n",
       "[4384 rows x 10 columns]"
      ]
     },
     "execution_count": 6,
     "metadata": {},
     "output_type": "execute_result"
    }
   ],
   "source": [
    "df=pd.read_csv(\"Supplement_Sales.csv\")\n",
    "df['Date']=pd.to_datetime(df['Date'])\n",
    "df"
   ]
  },
  {
   "cell_type": "code",
   "execution_count": 7,
   "id": "6eef1520",
   "metadata": {},
   "outputs": [
    {
     "data": {
      "text/plain": [
       "Date              datetime64[ns]\n",
       "Product Name              object\n",
       "Category                  object\n",
       "Units Sold                 int64\n",
       "Price                    float64\n",
       "Revenue                  float64\n",
       "Discount                 float64\n",
       "Units Returned             int64\n",
       "Location                  object\n",
       "Platform                  object\n",
       "dtype: object"
      ]
     },
     "execution_count": 7,
     "metadata": {},
     "output_type": "execute_result"
    }
   ],
   "source": [
    "df.dtypes"
   ]
  },
  {
   "cell_type": "code",
   "execution_count": 10,
   "id": "90a42287",
   "metadata": {},
   "outputs": [
    {
     "data": {
      "text/plain": [
       "Date              0\n",
       "Product Name      0\n",
       "Category          0\n",
       "Units Sold        0\n",
       "Price             0\n",
       "Revenue           0\n",
       "Discount          0\n",
       "Units Returned    0\n",
       "Location          0\n",
       "Platform          0\n",
       "dtype: int64"
      ]
     },
     "execution_count": 10,
     "metadata": {},
     "output_type": "execute_result"
    }
   ],
   "source": [
    "df.isnull().sum()"
   ]
  },
  {
   "cell_type": "code",
   "execution_count": 11,
   "id": "acb03f37",
   "metadata": {},
   "outputs": [
    {
     "name": "stdout",
     "output_type": "stream",
     "text": [
      "Collecting missingno\n",
      "  Downloading missingno-0.5.2-py3-none-any.whl.metadata (639 bytes)\n",
      "Requirement already satisfied: numpy in c:\\users\\dell\\appdata\\local\\programs\\python\\python313\\lib\\site-packages (from missingno) (2.2.6)\n",
      "Requirement already satisfied: matplotlib in c:\\users\\dell\\appdata\\local\\programs\\python\\python313\\lib\\site-packages (from missingno) (3.10.3)\n",
      "Collecting scipy (from missingno)\n",
      "  Downloading scipy-1.15.3-cp313-cp313-win_amd64.whl.metadata (60 kB)\n",
      "Collecting seaborn (from missingno)\n",
      "  Downloading seaborn-0.13.2-py3-none-any.whl.metadata (5.4 kB)\n",
      "Requirement already satisfied: contourpy>=1.0.1 in c:\\users\\dell\\appdata\\local\\programs\\python\\python313\\lib\\site-packages (from matplotlib->missingno) (1.3.2)\n",
      "Requirement already satisfied: cycler>=0.10 in c:\\users\\dell\\appdata\\local\\programs\\python\\python313\\lib\\site-packages (from matplotlib->missingno) (0.12.1)\n",
      "Requirement already satisfied: fonttools>=4.22.0 in c:\\users\\dell\\appdata\\local\\programs\\python\\python313\\lib\\site-packages (from matplotlib->missingno) (4.58.1)\n",
      "Requirement already satisfied: kiwisolver>=1.3.1 in c:\\users\\dell\\appdata\\local\\programs\\python\\python313\\lib\\site-packages (from matplotlib->missingno) (1.4.8)\n",
      "Requirement already satisfied: packaging>=20.0 in c:\\users\\dell\\appdata\\roaming\\python\\python313\\site-packages (from matplotlib->missingno) (25.0)\n",
      "Requirement already satisfied: pillow>=8 in c:\\users\\dell\\appdata\\local\\programs\\python\\python313\\lib\\site-packages (from matplotlib->missingno) (11.2.1)\n",
      "Requirement already satisfied: pyparsing>=2.3.1 in c:\\users\\dell\\appdata\\local\\programs\\python\\python313\\lib\\site-packages (from matplotlib->missingno) (3.2.3)\n",
      "Requirement already satisfied: python-dateutil>=2.7 in c:\\users\\dell\\appdata\\roaming\\python\\python313\\site-packages (from matplotlib->missingno) (2.9.0.post0)\n",
      "Requirement already satisfied: pandas>=1.2 in c:\\users\\dell\\appdata\\local\\programs\\python\\python313\\lib\\site-packages (from seaborn->missingno) (2.2.3)\n",
      "Requirement already satisfied: pytz>=2020.1 in c:\\users\\dell\\appdata\\local\\programs\\python\\python313\\lib\\site-packages (from pandas>=1.2->seaborn->missingno) (2025.2)\n",
      "Requirement already satisfied: tzdata>=2022.7 in c:\\users\\dell\\appdata\\local\\programs\\python\\python313\\lib\\site-packages (from pandas>=1.2->seaborn->missingno) (2025.2)\n",
      "Requirement already satisfied: six>=1.5 in c:\\users\\dell\\appdata\\roaming\\python\\python313\\site-packages (from python-dateutil>=2.7->matplotlib->missingno) (1.17.0)\n",
      "Downloading missingno-0.5.2-py3-none-any.whl (8.7 kB)\n",
      "Downloading scipy-1.15.3-cp313-cp313-win_amd64.whl (41.0 MB)\n",
      "   ---------------------------------------- 0.0/41.0 MB ? eta -:--:--\n",
      "   ---------------------------------------- 0.3/41.0 MB ? eta -:--:--\n",
      "    --------------------------------------- 0.8/41.0 MB 2.0 MB/s eta 0:00:21\n",
      "   - -------------------------------------- 1.0/41.0 MB 2.1 MB/s eta 0:00:19\n",
      "   - -------------------------------------- 1.3/41.0 MB 1.8 MB/s eta 0:00:22\n",
      "   - -------------------------------------- 1.8/41.0 MB 1.8 MB/s eta 0:00:22\n",
      "   -- ------------------------------------- 2.4/41.0 MB 1.9 MB/s eta 0:00:21\n",
      "   -- ------------------------------------- 2.9/41.0 MB 2.0 MB/s eta 0:00:20\n",
      "   --- ------------------------------------ 3.7/41.0 MB 2.2 MB/s eta 0:00:17\n",
      "   --- ------------------------------------ 3.9/41.0 MB 2.2 MB/s eta 0:00:17\n",
      "   ---- ----------------------------------- 4.7/41.0 MB 2.3 MB/s eta 0:00:16\n",
      "   ----- ---------------------------------- 5.5/41.0 MB 2.4 MB/s eta 0:00:16\n",
      "   ----- ---------------------------------- 6.0/41.0 MB 2.4 MB/s eta 0:00:15\n",
      "   ------ --------------------------------- 6.8/41.0 MB 2.5 MB/s eta 0:00:14\n",
      "   ------- -------------------------------- 7.6/41.0 MB 2.6 MB/s eta 0:00:13\n",
      "   -------- ------------------------------- 8.7/41.0 MB 2.7 MB/s eta 0:00:12\n",
      "   --------- ------------------------------ 9.4/41.0 MB 2.8 MB/s eta 0:00:12\n",
      "   --------- ------------------------------ 10.2/41.0 MB 2.9 MB/s eta 0:00:11\n",
      "   ---------- ----------------------------- 10.7/41.0 MB 2.9 MB/s eta 0:00:11\n",
      "   ----------- ---------------------------- 12.1/41.0 MB 3.0 MB/s eta 0:00:10\n",
      "   ------------ --------------------------- 13.1/41.0 MB 3.1 MB/s eta 0:00:09\n",
      "   ------------- -------------------------- 14.2/41.0 MB 3.2 MB/s eta 0:00:09\n",
      "   -------------- ------------------------- 15.2/41.0 MB 3.3 MB/s eta 0:00:08\n",
      "   --------------- ------------------------ 15.5/41.0 MB 3.2 MB/s eta 0:00:08\n",
      "   ---------------- ----------------------- 16.5/41.0 MB 3.3 MB/s eta 0:00:08\n",
      "   ---------------- ----------------------- 17.0/41.0 MB 3.2 MB/s eta 0:00:08\n",
      "   ----------------- ---------------------- 18.4/41.0 MB 3.3 MB/s eta 0:00:07\n",
      "   ------------------ --------------------- 19.1/41.0 MB 3.4 MB/s eta 0:00:07\n",
      "   ------------------- -------------------- 19.7/41.0 MB 3.4 MB/s eta 0:00:07\n",
      "   -------------------- ------------------- 20.7/41.0 MB 3.4 MB/s eta 0:00:06\n",
      "   --------------------- ------------------ 21.8/41.0 MB 3.4 MB/s eta 0:00:06\n",
      "   ---------------------- ----------------- 22.5/41.0 MB 3.5 MB/s eta 0:00:06\n",
      "   ----------------------- ---------------- 23.9/41.0 MB 3.6 MB/s eta 0:00:05\n",
      "   ------------------------ --------------- 25.2/41.0 MB 3.6 MB/s eta 0:00:05\n",
      "   ------------------------- -------------- 25.7/41.0 MB 3.6 MB/s eta 0:00:05\n",
      "   -------------------------- ------------- 26.7/41.0 MB 3.6 MB/s eta 0:00:04\n",
      "   -------------------------- ------------- 27.3/41.0 MB 3.6 MB/s eta 0:00:04\n",
      "   --------------------------- ------------ 28.3/41.0 MB 3.6 MB/s eta 0:00:04\n",
      "   ---------------------------- ----------- 29.4/41.0 MB 3.7 MB/s eta 0:00:04\n",
      "   ------------------------------ --------- 30.9/41.0 MB 3.8 MB/s eta 0:00:03\n",
      "   ------------------------------ --------- 31.7/41.0 MB 3.8 MB/s eta 0:00:03\n",
      "   ------------------------------- -------- 32.5/41.0 MB 3.8 MB/s eta 0:00:03\n",
      "   --------------------------------- ------ 33.8/41.0 MB 3.8 MB/s eta 0:00:02\n",
      "   ---------------------------------- ----- 35.1/41.0 MB 3.9 MB/s eta 0:00:02\n",
      "   ----------------------------------- ---- 36.4/41.0 MB 3.9 MB/s eta 0:00:02\n",
      "   ------------------------------------ --- 37.5/41.0 MB 3.9 MB/s eta 0:00:01\n",
      "   ------------------------------------- -- 38.8/41.0 MB 4.0 MB/s eta 0:00:01\n",
      "   -------------------------------------- - 39.6/41.0 MB 4.0 MB/s eta 0:00:01\n",
      "   ---------------------------------------  40.9/41.0 MB 4.0 MB/s eta 0:00:01\n",
      "   ---------------------------------------  40.9/41.0 MB 4.0 MB/s eta 0:00:01\n",
      "   ---------------------------------------- 41.0/41.0 MB 3.9 MB/s eta 0:00:00\n",
      "Downloading seaborn-0.13.2-py3-none-any.whl (294 kB)\n",
      "Installing collected packages: scipy, seaborn, missingno\n",
      "Successfully installed missingno-0.5.2 scipy-1.15.3 seaborn-0.13.2\n",
      "Note: you may need to restart the kernel to use updated packages.\n"
     ]
    },
    {
     "name": "stderr",
     "output_type": "stream",
     "text": [
      "\n",
      "[notice] A new release of pip is available: 25.0.1 -> 25.1.1\n",
      "[notice] To update, run: python.exe -m pip install --upgrade pip\n"
     ]
    }
   ],
   "source": [
    "%pip install missingno"
   ]
  },
  {
   "cell_type": "code",
   "execution_count": 12,
   "id": "aa89b21a",
   "metadata": {},
   "outputs": [
    {
     "name": "stderr",
     "output_type": "stream",
     "text": [
      "Matplotlib is building the font cache; this may take a moment.\n"
     ]
    },
    {
     "data": {
      "text/plain": [
       "<Axes: >"
      ]
     },
     "execution_count": 12,
     "metadata": {},
     "output_type": "execute_result"
    },
    {
     "data": {
      "image/png": "[encoded data removed]",
      "text/plain": [
       "<Figure size 2500x1000 with 2 Axes>"
      ]
     },
     "metadata": {},
     "output_type": "display_data"
    }
   ],
   "source": [
    "import missingno as mso\n",
    "mso.matrix(df)"
   ]
  },
  {
   "cell_type": "code",
   "execution_count": 13,
   "id": "ada4c6fc",
   "metadata": {},
   "outputs": [
    {
     "name": "stdout",
     "output_type": "stream",
     "text": [
      "Requirement already satisfied: numpy in c:\\users\\dell\\appdata\\local\\programs\\python\\python313\\lib\\site-packages (2.2.6)\n",
      "Note: you may need to restart the kernel to use updated packages.\n"
     ]
    },
    {
     "name": "stderr",
     "output_type": "stream",
     "text": [
      "\n",
      "[notice] A new release of pip is available: 25.0.1 -> 25.1.1\n",
      "[notice] To update, run: python.exe -m pip install --upgrade pip\n"
     ]
    }
   ],
   "source": [
    "%pip install numpy"
   ]
  },
  {
   "cell_type": "code",
   "execution_count": 14,
   "id": "6fffe345",
   "metadata": {},
   "outputs": [],
   "source": [
    "import numpy as np"
   ]
  },
  {
   "cell_type": "code",
   "execution_count": 15,
   "id": "ae4b8ed2",
   "metadata": {},
   "outputs": [
    {
     "data": {
      "text/plain": [
       "np.float64(35.0)"
      ]
     },
     "execution_count": 15,
     "metadata": {},
     "output_type": "execute_result"
    }
   ],
   "source": [
    "np.ceil(df['Price'].mean())"
   ]
  },
  {
   "cell_type": "code",
   "execution_count": 16,
   "id": "d2b0bc3c",
   "metadata": {},
   "outputs": [
    {
     "data": {
      "text/plain": [
       "np.float64(34.0)"
      ]
     },
     "execution_count": 16,
     "metadata": {},
     "output_type": "execute_result"
    }
   ],
   "source": [
    "np.floor(df['Price'].mean())"
   ]
  },
  {
   "cell_type": "code",
   "execution_count": 20,
   "id": "0a4fb594",
   "metadata": {},
   "outputs": [
    {
     "data": {
      "text/plain": [
       "Category\n",
       "Vitamin        822\n",
       "Mineral        822\n",
       "Protein        548\n",
       "Performance    548\n",
       "Omega          274\n",
       "Amino Acid     274\n",
       "Herbal         274\n",
       "Sleep Aid      274\n",
       "Fat Burner     274\n",
       "Hydration      274\n",
       "Name: count, dtype: int64"
      ]
     },
     "execution_count": 20,
     "metadata": {},
     "output_type": "execute_result"
    }
   ],
   "source": [
    "df['Category'].value_counts()"
   ]
  },
  {
   "cell_type": "code",
   "execution_count": 19,
   "id": "88569286",
   "metadata": {},
   "outputs": [
    {
     "data": {
      "text/plain": [
       "0    Mineral\n",
       "1    Vitamin\n",
       "Name: Category, dtype: object"
      ]
     },
     "execution_count": 19,
     "metadata": {},
     "output_type": "execute_result"
    }
   ],
   "source": [
    "df['Category'].mode()"
   ]
  },
  {
   "cell_type": "code",
   "execution_count": 21,
   "id": "b2c7d609",
   "metadata": {},
   "outputs": [
    {
     "name": "stdout",
     "output_type": "stream",
     "text": [
      "<class 'pandas.core.frame.DataFrame'>\n",
      "RangeIndex: 4384 entries, 0 to 4383\n",
      "Data columns (total 10 columns):\n",
      " #   Column          Non-Null Count  Dtype         \n",
      "---  ------          --------------  -----         \n",
      " 0   Date            4384 non-null   datetime64[ns]\n",
      " 1   Product Name    4384 non-null   object        \n",
      " 2   Category        4384 non-null   object        \n",
      " 3   Units Sold      4384 non-null   int64         \n",
      " 4   Price           4384 non-null   float64       \n",
      " 5   Revenue         4384 non-null   float64       \n",
      " 6   Discount        4384 non-null   float64       \n",
      " 7   Units Returned  4384 non-null   int64         \n",
      " 8   Location        4384 non-null   object        \n",
      " 9   Platform        4384 non-null   object        \n",
      "dtypes: datetime64[ns](1), float64(3), int64(2), object(4)\n",
      "memory usage: 342.6+ KB\n"
     ]
    }
   ],
   "source": [
    "df.info()"
   ]
  },
  {
   "cell_type": "code",
   "execution_count": 22,
   "id": "f83cf754",
   "metadata": {},
   "outputs": [
    {
     "data": {
      "text/plain": [
       "Category\n",
       "Amino Acid     5346.057044\n",
       "Fat Burner     5258.759307\n",
       "Herbal         5130.294854\n",
       "Hydration      5153.107226\n",
       "Mineral        5202.077847\n",
       "Omega          5295.860839\n",
       "Performance    5309.675511\n",
       "Protein        5210.751989\n",
       "Sleep Aid      5099.692664\n",
       "Vitamin        5231.416886\n",
       "Name: Revenue, dtype: float64"
      ]
     },
     "execution_count": 22,
     "metadata": {},
     "output_type": "execute_result"
    }
   ],
   "source": [
    "df.groupby('Category')['Revenue'].mean()"
   ]
  },
  {
   "cell_type": "code",
   "execution_count": 23,
   "id": "21bf6f0e",
   "metadata": {},
   "outputs": [
    {
     "data": {
      "text/html": [
       "<div>\n",
       "<style scoped>\n",
       "    .dataframe tbody tr th:only-of-type {\n",
       "        vertical-align: middle;\n",
       "    }\n",
       "\n",
       "    .dataframe tbody tr th {\n",
       "        vertical-align: top;\n",
       "    }\n",
       "\n",
       "    .dataframe thead th {\n",
       "        text-align: right;\n",
       "    }\n",
       "</style>\n",
       "<table border=\"1\" class=\"dataframe\">\n",
       "  <thead>\n",
       "    <tr style=\"text-align: right;\">\n",
       "      <th></th>\n",
       "      <th>Units Sold</th>\n",
       "      <th>Price</th>\n",
       "      <th>Revenue</th>\n",
       "      <th>Discount</th>\n",
       "      <th>Units Returned</th>\n",
       "    </tr>\n",
       "  </thead>\n",
       "  <tbody>\n",
       "    <tr>\n",
       "      <th>0</th>\n",
       "      <td>143</td>\n",
       "      <td>31.98</td>\n",
       "      <td>4573.14</td>\n",
       "      <td>0.03</td>\n",
       "      <td>2</td>\n",
       "    </tr>\n",
       "    <tr>\n",
       "      <th>1</th>\n",
       "      <td>139</td>\n",
       "      <td>42.51</td>\n",
       "      <td>5908.89</td>\n",
       "      <td>0.04</td>\n",
       "      <td>0</td>\n",
       "    </tr>\n",
       "    <tr>\n",
       "      <th>2</th>\n",
       "      <td>161</td>\n",
       "      <td>12.91</td>\n",
       "      <td>2078.51</td>\n",
       "      <td>0.25</td>\n",
       "      <td>0</td>\n",
       "    </tr>\n",
       "    <tr>\n",
       "      <th>3</th>\n",
       "      <td>140</td>\n",
       "      <td>16.07</td>\n",
       "      <td>2249.80</td>\n",
       "      <td>0.08</td>\n",
       "      <td>0</td>\n",
       "    </tr>\n",
       "    <tr>\n",
       "      <th>4</th>\n",
       "      <td>157</td>\n",
       "      <td>35.47</td>\n",
       "      <td>5568.79</td>\n",
       "      <td>0.25</td>\n",
       "      <td>3</td>\n",
       "    </tr>\n",
       "    <tr>\n",
       "      <th>...</th>\n",
       "      <td>...</td>\n",
       "      <td>...</td>\n",
       "      <td>...</td>\n",
       "      <td>...</td>\n",
       "      <td>...</td>\n",
       "    </tr>\n",
       "    <tr>\n",
       "      <th>4379</th>\n",
       "      <td>160</td>\n",
       "      <td>47.79</td>\n",
       "      <td>7646.40</td>\n",
       "      <td>0.21</td>\n",
       "      <td>1</td>\n",
       "    </tr>\n",
       "    <tr>\n",
       "      <th>4380</th>\n",
       "      <td>154</td>\n",
       "      <td>38.12</td>\n",
       "      <td>5870.48</td>\n",
       "      <td>0.22</td>\n",
       "      <td>1</td>\n",
       "    </tr>\n",
       "    <tr>\n",
       "      <th>4381</th>\n",
       "      <td>139</td>\n",
       "      <td>20.40</td>\n",
       "      <td>2835.60</td>\n",
       "      <td>0.12</td>\n",
       "      <td>3</td>\n",
       "    </tr>\n",
       "    <tr>\n",
       "      <th>4382</th>\n",
       "      <td>154</td>\n",
       "      <td>18.31</td>\n",
       "      <td>2819.74</td>\n",
       "      <td>0.23</td>\n",
       "      <td>2</td>\n",
       "    </tr>\n",
       "    <tr>\n",
       "      <th>4383</th>\n",
       "      <td>178</td>\n",
       "      <td>39.12</td>\n",
       "      <td>6963.36</td>\n",
       "      <td>0.23</td>\n",
       "      <td>0</td>\n",
       "    </tr>\n",
       "  </tbody>\n",
       "</table>\n",
       "<p>4384 rows × 5 columns</p>\n",
       "</div>"
      ],
      "text/plain": [
       "      Units Sold  Price  Revenue  Discount  Units Returned\n",
       "0            143  31.98  4573.14      0.03               2\n",
       "1            139  42.51  5908.89      0.04               0\n",
       "2            161  12.91  2078.51      0.25               0\n",
       "3            140  16.07  2249.80      0.08               0\n",
       "4            157  35.47  5568.79      0.25               3\n",
       "...          ...    ...      ...       ...             ...\n",
       "4379         160  47.79  7646.40      0.21               1\n",
       "4380         154  38.12  5870.48      0.22               1\n",
       "4381         139  20.40  2835.60      0.12               3\n",
       "4382         154  18.31  2819.74      0.23               2\n",
       "4383         178  39.12  6963.36      0.23               0\n",
       "\n",
       "[4384 rows x 5 columns]"
      ]
     },
     "execution_count": 23,
     "metadata": {},
     "output_type": "execute_result"
    }
   ],
   "source": [
    "num_cols=df.select_dtypes(include=[\"number\"])\n",
    "num_cols"
   ]
  },
  {
   "cell_type": "code",
   "execution_count": 24,
   "id": "12657d8d",
   "metadata": {},
   "outputs": [
    {
     "data": {
      "text/plain": [
       "<bound method DataFrame.corr of       Units Sold  Price  Revenue  Discount  Units Returned\n",
       "0            143  31.98  4573.14      0.03               2\n",
       "1            139  42.51  5908.89      0.04               0\n",
       "2            161  12.91  2078.51      0.25               0\n",
       "3            140  16.07  2249.80      0.08               0\n",
       "4            157  35.47  5568.79      0.25               3\n",
       "...          ...    ...      ...       ...             ...\n",
       "4379         160  47.79  7646.40      0.21               1\n",
       "4380         154  38.12  5870.48      0.22               1\n",
       "4381         139  20.40  2835.60      0.12               3\n",
       "4382         154  18.31  2819.74      0.23               2\n",
       "4383         178  39.12  6963.36      0.23               0\n",
       "\n",
       "[4384 rows x 5 columns]>"
      ]
     },
     "execution_count": 24,
     "metadata": {},
     "output_type": "execute_result"
    }
   ],
   "source": [
    "num_cols.corr"
   ]
  },
  {
   "cell_type": "code",
   "execution_count": 25,
   "id": "79c1b29f",
   "metadata": {},
   "outputs": [],
   "source": [
    "import seaborn as sns"
   ]
  },
  {
   "cell_type": "code",
   "execution_count": 26,
   "id": "5480b51c",
   "metadata": {},
   "outputs": [
    {
     "data": {
      "text/plain": [
       "<Axes: >"
      ]
     },
     "execution_count": 26,
     "metadata": {},
     "output_type": "execute_result"
    },
    {
     "data": {
      "image/png": "[encoded data removed]",
      "text/plain": [
       "<Figure size 640x480 with 2 Axes>"
      ]
     },
     "metadata": {},
     "output_type": "display_data"
    }
   ],
   "source": [
    "sns.heatmap(num_cols.corr(),cmap= 'coolwarm',annot=True)"
   ]
  }
 ],
 "metadata": {
  "kernelspec": {
   "display_name": "Python 3",
   "language": "python",
   "name": "python3"
  },
  "language_info": {
   "codemirror_mode": {
    "name": "ipython",
    "version": 3
   },
   "file_extension": ".py",
   "mimetype": "text/x-python",
   "name": "python",
   "nbconvert_exporter": "python",
   "pygments_lexer": "ipython3",
   "version": "3.13.3"
  }
 },
 "nbformat": 4,
 "nbformat_minor": 5
}
